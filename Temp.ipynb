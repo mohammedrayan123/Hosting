{
 "cells": [
  {
   "cell_type": "code",
   "execution_count": 1,
   "metadata": {},
   "outputs": [
    {
     "name": "stdout",
     "output_type": "stream",
     "text": [
      "Note: you may need to restart the kernel to use updated packages.\n"
     ]
    },
    {
     "name": "stderr",
     "output_type": "stream",
     "text": [
      "WARNING: Retrying (Retry(total=4, connect=None, read=None, redirect=None, status=None)) after connection broken by 'NewConnectionError('<pip._vendor.urllib3.connection.HTTPSConnection object at 0x0000026ABE576290>: Failed to establish a new connection: [Errno 11001] getaddrinfo failed')': /simple/django/\n",
      "WARNING: Retrying (Retry(total=3, connect=None, read=None, redirect=None, status=None)) after connection broken by 'NewConnectionError('<pip._vendor.urllib3.connection.HTTPSConnection object at 0x0000026ABE577950>: Failed to establish a new connection: [Errno 11001] getaddrinfo failed')': /simple/django/\n",
      "WARNING: Retrying (Retry(total=2, connect=None, read=None, redirect=None, status=None)) after connection broken by 'NewConnectionError('<pip._vendor.urllib3.connection.HTTPSConnection object at 0x0000026ABE577F50>: Failed to establish a new connection: [Errno 11001] getaddrinfo failed')': /simple/django/\n",
      "WARNING: Retrying (Retry(total=1, connect=None, read=None, redirect=None, status=None)) after connection broken by 'NewConnectionError('<pip._vendor.urllib3.connection.HTTPSConnection object at 0x0000026ABE58CCD0>: Failed to establish a new connection: [Errno 11001] getaddrinfo failed')': /simple/django/\n",
      "WARNING: Retrying (Retry(total=0, connect=None, read=None, redirect=None, status=None)) after connection broken by 'NewConnectionError('<pip._vendor.urllib3.connection.HTTPSConnection object at 0x0000026ABE58D150>: Failed to establish a new connection: [Errno 11001] getaddrinfo failed')': /simple/django/\n",
      "ERROR: Could not find a version that satisfies the requirement django (from versions: none)\n",
      "ERROR: No matching distribution found for django\n"
     ]
    }
   ],
   "source": [
    "pip install django"
   ]
  },
  {
   "cell_type": "code",
   "execution_count": 15,
   "metadata": {},
   "outputs": [
    {
     "name": "stdout",
     "output_type": "stream",
     "text": [
      "[[1 1 1 1 1 1]\n",
      " [0 0 0 0 3 0]\n",
      " [0 0 1 0 0 2]\n",
      " [0 0 0 0 0 0]\n",
      " [0 0 0 0 4 0]\n",
      " [0 0 0 0 0 0]]\n",
      "[[1 1 1 1 1 1]]\n"
     ]
    }
   ],
   "source": [
    "import numpy as np\n",
    "A = np.matrix([[1,1,1,1,1,1],[0,0,0,0,3,0],[0,0,1,0,0,2],[0,0,0,0,0,0],[0,0,0,0,4,0],[0,0,0,0,0,0]])\n",
    "print(A)\n",
    "element = A[0] \n",
    "print(element)"
   ]
  },
  {
   "cell_type": "code",
   "execution_count": null,
   "metadata": {},
   "outputs": [],
   "source": []
  }
 ],
 "metadata": {
  "kernelspec": {
   "display_name": "Python 3",
   "language": "python",
   "name": "python3"
  },
  "language_info": {
   "codemirror_mode": {
    "name": "ipython",
    "version": 3
   },
   "file_extension": ".py",
   "mimetype": "text/x-python",
   "name": "python",
   "nbconvert_exporter": "python",
   "pygments_lexer": "ipython3",
   "version": "3.11.4"
  }
 },
 "nbformat": 4,
 "nbformat_minor": 2
}
